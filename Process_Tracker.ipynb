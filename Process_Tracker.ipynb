{
 "cells": [
  {
   "cell_type": "code",
   "execution_count": 1,
   "metadata": {},
   "outputs": [],
   "source": [
    "import csv\n",
    "data = ['HTH', '  65', '  183001']\n",
    "with open(\"Storage/Storage.csv\", \"r\", newline=\"\") as storage_file:\n",
    "    rows = list(csv.reader(storage_file))"
   ]
  },
  {
   "cell_type": "code",
   "execution_count": 2,
   "metadata": {},
   "outputs": [
    {
     "ename": "ValueError",
     "evalue": "list.remove(x): x not in list",
     "output_type": "error",
     "traceback": [
      "\u001b[1;31m---------------------------------------------------------------------------\u001b[0m",
      "\u001b[1;31mValueError\u001b[0m                                Traceback (most recent call last)",
      "Cell \u001b[1;32mIn[2], line 11\u001b[0m\n\u001b[0;32m      9\u001b[0m \u001b[38;5;66;03m# Handle error here#\u001b[39;00m\n\u001b[0;32m     10\u001b[0m \u001b[38;5;28;01mtry\u001b[39;00m:\n\u001b[1;32m---> 11\u001b[0m     \u001b[43mrows\u001b[49m\u001b[38;5;241;43m.\u001b[39;49m\u001b[43mremove\u001b[49m\u001b[43m(\u001b[49m\u001b[43mdel_data\u001b[49m\u001b[43m)\u001b[49m\n\u001b[0;32m     12\u001b[0m     del_data \u001b[38;5;241m=\u001b[39m del_data[:\u001b[38;5;241m-\u001b[39m\u001b[38;5;241m1\u001b[39m]\n\u001b[0;32m     13\u001b[0m \u001b[38;5;28;01mexcept\u001b[39;00m \u001b[38;5;167;01mIndexError\u001b[39;00m \u001b[38;5;28;01mas\u001b[39;00m e:\n",
      "\u001b[1;31mValueError\u001b[0m: list.remove(x): x not in list"
     ]
    }
   ],
   "source": [
    "for row in rows:\n",
    "    del_data = None\n",
    "    if row[:len(data)] == data:\n",
    "        del_data = row\n",
    "        break\n",
    "\n",
    "if del_data is None:\n",
    "    pass\n",
    "# Handle error here#\n",
    "try:\n",
    "    rows.remove(del_data)\n",
    "    del_data = del_data[:-1]\n",
    "except IndexError as e:\n",
    "    pass\n",
    "# Handle error here#\n",
    "    \n",
    "with open(\"Storage/Storage.csv\", \"w\", newline=\"\") as storage_file:\n",
    "    writer = csv.writer(storage_file)\n",
    "    writer.writerows(rows)\n",
    "\n",
    "# Write the data to the log #\n",
    "    with open(\"Storage/Log.csv\", \"a\", newline=\"\") as log_file:\n",
    "        writer = csv.writer(log_file)\n",
    "        writer.writerow(del_data)\n",
    "        "
   ]
  },
  {
   "cell_type": "code",
   "execution_count": null,
   "metadata": {},
   "outputs": [],
   "source": [
    "a = 0\n",
    "b = 1\n",
    "c = 999\n",
    "\n",
    "if a:\n",
    "    print(a)\n",
    "elif b:\n",
    "    print(b)\n",
    "elif c:\n",
    "    print(c)"
   ]
  }
 ],
 "metadata": {
  "kernelspec": {
   "display_name": "Python 3",
   "language": "python",
   "name": "python3"
  },
  "language_info": {
   "codemirror_mode": {
    "name": "ipython",
    "version": 3
   },
   "file_extension": ".py",
   "mimetype": "text/x-python",
   "name": "python",
   "nbconvert_exporter": "python",
   "pygments_lexer": "ipython3",
   "version": "3.12.5"
  }
 },
 "nbformat": 4,
 "nbformat_minor": 2
}
